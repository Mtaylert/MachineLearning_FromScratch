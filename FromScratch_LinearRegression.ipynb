{
 "cells": [
  {
   "cell_type": "code",
   "execution_count": 1,
   "metadata": {},
   "outputs": [],
   "source": [
    "%matplotlib inline\n",
    "import numpy as np\n",
    "import pandas as pd\n",
    "import matplotlib.pyplot as plt\n",
    "from sklearn.model_selection import train_test_split"
   ]
  },
  {
   "cell_type": "code",
   "execution_count": 2,
   "metadata": {},
   "outputs": [],
   "source": [
    "from sklearn.datasets import california_housing"
   ]
  },
  {
   "cell_type": "code",
   "execution_count": 3,
   "metadata": {},
   "outputs": [],
   "source": [
    "calihousing = california_housing.fetch_california_housing()"
   ]
  },
  {
   "cell_type": "code",
   "execution_count": 4,
   "metadata": {},
   "outputs": [],
   "source": [
    "data = pd.DataFrame(calihousing.data,columns=calihousing.feature_names)\n",
    "target = calihousing.target\n",
    "X_train,X_test,y_train,y_test = train_test_split(data,target,test_size=0.25, random_state=42)"
   ]
  },
  {
   "cell_type": "code",
   "execution_count": 5,
   "metadata": {},
   "outputs": [],
   "source": [
    "def addConstantFunc(X):\n",
    "\n",
    "    x0 = np.ones(len(X))\n",
    "\n",
    "    #add a constant\n",
    "    X['constant'] = x0\n",
    "\n",
    "    return X\n",
    "\n",
    "\n",
    "def calculate_cost_function(X,y, coefficients):\n",
    "\n",
    "\n",
    "\n",
    "    #add a constant\n",
    "    X =  addConstantFunc(X)\n",
    "\n",
    "    cost = np.sum((X.dot(coefficients) - y)**2)/ (2*len(y))\n",
    "\n",
    "    return cost\n",
    "\n",
    "\n",
    "def LinearRegression(X,y, alpha, n_iterations, step_loss = True):\n",
    "\n",
    "    \"\"\"\n",
    "    if step loss is true, the function returns the gradient descent output\n",
    "\n",
    "\n",
    "    \"\"\"\n",
    "    X = addConstantFunc(X)\n",
    "\n",
    "    gradient_preds = []\n",
    "\n",
    "    #create base intercept\n",
    "    coefficients = np.array(np.zeros(X.shape[1]))\n",
    "\n",
    "    cost_history = [0] * n_iterations\n",
    "\n",
    "    for i in range(n_iterations):\n",
    "\n",
    "        h = X.dot(coefficients)\n",
    "\n",
    "        loss = h - y\n",
    "\n",
    "        gradient = X.T.dot(loss)/ len(y)\n",
    "\n",
    "        coefficients = coefficients - alpha  * gradient\n",
    "\n",
    "        cost = calculate_cost_function(X,y, coefficients)\n",
    "\n",
    "        gradient_preds.append(tuple([i, cost]))\n",
    "\n",
    "        cost_history[i] = cost\n",
    "\n",
    "        steploss = pd.DataFrame(gradient_preds,columns=['Steps','Loss'])\n",
    "\n",
    "\n",
    "\n",
    "    if step_loss==True:\n",
    "        return (coefficients, cost_history)\n",
    "\n",
    "    else:\n",
    "        return coefficients\n",
    "\n",
    "\n",
    "def predict(X, coefficients):\n",
    "\n",
    "    X = addConstantFunc(X)\n",
    "    prediction = X.dot(coefficients)\n",
    "    return prediction"
   ]
  }
 ],
 "metadata": {
  "kernelspec": {
   "display_name": "Python 3",
   "language": "python",
   "name": "python3"
  },
  "language_info": {
   "codemirror_mode": {
    "name": "ipython",
    "version": 3
   },
   "file_extension": ".py",
   "mimetype": "text/x-python",
   "name": "python",
   "nbconvert_exporter": "python",
   "pygments_lexer": "ipython3",
   "version": "3.7.3"
  }
 },
 "nbformat": 4,
 "nbformat_minor": 2
}
