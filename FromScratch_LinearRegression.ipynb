{
 "cells": [
  {
   "cell_type": "code",
   "execution_count": 1,
   "metadata": {},
   "outputs": [],
   "source": [
    "%matplotlib inline\n",
    "import numpy as np\n",
    "import pandas as pd\n",
    "import matplotlib.pyplot as plt\n",
    "from sklearn.model_selection import train_test_split"
   ]
  },
  {
   "cell_type": "code",
   "execution_count": 2,
   "metadata": {},
   "outputs": [],
   "source": [
    "from sklearn.preprocessing import StandardScaler\n"
   ]
  },
  {
   "cell_type": "code",
   "execution_count": 3,
   "metadata": {},
   "outputs": [],
   "source": [
    "data = pd.read_csv('/Users/Matt/Documents/Intro To Stat Learning/MachineLearningFromScratch/data/Advertising.csv')\n",
    "#df = data[['Income','Rating','Balance']]\n",
    "\n",
    "\n",
    "data.drop('Unnamed: 0', axis=1, inplace=True)\n",
    "data\n",
    "\n",
    "\n",
    "y = data['sales']\n",
    "X = data.iloc[:,:-1]\n",
    "standsc = StandardScaler()\n",
    "standsc.fit(X)\n",
    "X_norm = pd.DataFrame(standsc.transform(X))\n",
    "X_norm.columns = X.columns"
   ]
  },
  {
   "cell_type": "code",
   "execution_count": 4,
   "metadata": {},
   "outputs": [],
   "source": [
    "def addConstantFunc(X):\n",
    "\n",
    "    x0 = np.ones(len(X))\n",
    "\n",
    "    #add a constant\n",
    "    X['constant'] = x0\n",
    "\n",
    "    return X\n",
    "\n",
    "\n",
    "def calculate_cost_function(X,y, coefficients):\n",
    "\n",
    "\n",
    "\n",
    "    #add a constant\n",
    "    X =  addConstantFunc(X)\n",
    "\n",
    "    cost = np.sum((X.dot(coefficients) - y)**2)/ (2*len(y))\n",
    "\n",
    "    return cost\n",
    "\n",
    "\n",
    "def LinearRegression(X,y, alpha, n_iterations, step_loss = True):\n",
    "\n",
    "    \"\"\"\n",
    "    if step loss is true, the function returns the gradient descent output\n",
    "\n",
    "\n",
    "    \"\"\"\n",
    "    X_ = addConstantFunc(X)\n",
    "\n",
    "    gradient_preds = []\n",
    "\n",
    "    #create base intercept\n",
    "    coefficients = np.array(np.zeros(X_.shape[1]))\n",
    "\n",
    "    cost_history = [0] * n_iterations\n",
    "\n",
    "    for i in range(n_iterations):\n",
    "\n",
    "        h = X_.dot(coefficients)\n",
    "\n",
    "        loss = h - y\n",
    "\n",
    "        gradient = X_.T.dot(loss)/ len(y)\n",
    "\n",
    "        coefficients = coefficients - alpha  * gradient\n",
    "\n",
    "        cost = calculate_cost_function(X_,y, coefficients)\n",
    "\n",
    "        gradient_preds.append(tuple([i, cost]))\n",
    "\n",
    "        cost_history[i] = cost\n",
    "\n",
    "        steploss = pd.DataFrame(gradient_preds,columns=['Steps','Loss'])\n",
    "\n",
    "\n",
    "\n",
    "    if step_loss==True:\n",
    "        return (coefficients, cost_history)\n",
    "\n",
    "    else:\n",
    "        return coefficients\n",
    "\n",
    "\n",
    "def predict(X, coefficients):\n",
    "\n",
    "    X = addConstantFunc(X)\n",
    "    prediction = X.dot(coefficients)\n",
    "    return prediction"
   ]
  },
  {
   "cell_type": "code",
   "execution_count": 6,
   "metadata": {},
   "outputs": [
    {
     "data": {
      "text/plain": [
       "TV            3.919254\n",
       "radio         2.792063\n",
       "newspaper    -0.022539\n",
       "constant     14.022500\n",
       "dtype: float64"
      ]
     },
     "execution_count": 6,
     "metadata": {},
     "output_type": "execute_result"
    }
   ],
   "source": [
    "coeff  = LinearRegression(X_norm, y, 0.1, 1000, step_loss=False)\n",
    "\n",
    "coeff"
   ]
  },
  {
   "cell_type": "code",
   "execution_count": null,
   "metadata": {
    "scrolled": true
   },
   "outputs": [],
   "source": [
    "predictions = predict(X_norm, coeff)"
   ]
  },
  {
   "cell_type": "code",
   "execution_count": null,
   "metadata": {
    "scrolled": true
   },
   "outputs": [],
   "source": [
    "Results =pd.DataFrame({'Prediction':predictions,'Actuals':y})"
   ]
  },
  {
   "cell_type": "code",
   "execution_count": null,
   "metadata": {},
   "outputs": [],
   "source": [
    "Results.reset_index(inplace=True)\n",
    "Results.drop('index',axis=1,inplace=True)"
   ]
  },
  {
   "cell_type": "code",
   "execution_count": null,
   "metadata": {},
   "outputs": [],
   "source": [
    "Results.plot(figsize=(18,5))\n",
    "plt.xlim(0,200)"
   ]
  },
  {
   "cell_type": "code",
   "execution_count": null,
   "metadata": {
    "scrolled": true
   },
   "outputs": [],
   "source": [
    "Results['Error'] = (Results['Prediction'] - Results['Actuals'])**2"
   ]
  },
  {
   "cell_type": "code",
   "execution_count": null,
   "metadata": {},
   "outputs": [],
   "source": [
    "Results['Error'].mean()"
   ]
  },
  {
   "cell_type": "code",
   "execution_count": null,
   "metadata": {},
   "outputs": [],
   "source": [
    "coeff"
   ]
  },
  {
   "cell_type": "code",
   "execution_count": null,
   "metadata": {},
   "outputs": [],
   "source": []
  }
 ],
 "metadata": {
  "kernelspec": {
   "display_name": "Python 3",
   "language": "python",
   "name": "python3"
  },
  "language_info": {
   "codemirror_mode": {
    "name": "ipython",
    "version": 3
   },
   "file_extension": ".py",
   "mimetype": "text/x-python",
   "name": "python",
   "nbconvert_exporter": "python",
   "pygments_lexer": "ipython3",
   "version": "3.7.3"
  }
 },
 "nbformat": 4,
 "nbformat_minor": 2
}
