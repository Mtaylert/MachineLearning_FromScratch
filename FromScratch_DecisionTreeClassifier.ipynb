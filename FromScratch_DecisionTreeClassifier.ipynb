{
 "cells": [
  {
   "cell_type": "code",
   "execution_count": 1,
   "metadata": {},
   "outputs": [],
   "source": [
    "import numpy as np\n",
    "import pandas as pd\n",
    "from sklearn.datasets import load_iris\n",
    "\n",
    "from sklearn.model_selection import train_test_split"
   ]
  },
  {
   "cell_type": "code",
   "execution_count": 5,
   "metadata": {},
   "outputs": [],
   "source": [
    "iris = load_iris()\n",
    "target = iris.target\n",
    "data = pd.DataFrame(iris.data,columns=iris.feature_names)\n",
    "\n",
    "\n",
    "data.columns = ['sepal_length','sepal_width','petal_length','petal_width']"
   ]
  },
  {
   "cell_type": "code",
   "execution_count": 101,
   "metadata": {},
   "outputs": [],
   "source": [
    "import random\n",
    "random.seed(123)\n",
    "X_train, X_test, y_train, y_test = train_test_split(data, target, test_size=0.33, random_state=123)\n"
   ]
  },
  {
   "cell_type": "code",
   "execution_count": 102,
   "metadata": {},
   "outputs": [],
   "source": [
    "Example = data.copy()\n",
    "Example['Label'] = target"
   ]
  },
  {
   "cell_type": "code",
   "execution_count": 103,
   "metadata": {},
   "outputs": [
    {
     "name": "stderr",
     "output_type": "stream",
     "text": [
      "//anaconda3/lib/python3.7/site-packages/ipykernel_launcher.py:1: SettingWithCopyWarning: \n",
      "A value is trying to be set on a copy of a slice from a DataFrame.\n",
      "Try using .loc[row_indexer,col_indexer] = value instead\n",
      "\n",
      "See the caveats in the documentation: http://pandas.pydata.org/pandas-docs/stable/indexing.html#indexing-view-versus-copy\n",
      "  \"\"\"Entry point for launching an IPython kernel.\n"
     ]
    }
   ],
   "source": [
    "X_train['label'] = y_train\n",
    "train_df = X_train"
   ]
  },
  {
   "cell_type": "code",
   "execution_count": 104,
   "metadata": {},
   "outputs": [
    {
     "name": "stderr",
     "output_type": "stream",
     "text": [
      "//anaconda3/lib/python3.7/site-packages/ipykernel_launcher.py:1: SettingWithCopyWarning: \n",
      "A value is trying to be set on a copy of a slice from a DataFrame.\n",
      "Try using .loc[row_indexer,col_indexer] = value instead\n",
      "\n",
      "See the caveats in the documentation: http://pandas.pydata.org/pandas-docs/stable/indexing.html#indexing-view-versus-copy\n",
      "  \"\"\"Entry point for launching an IPython kernel.\n"
     ]
    }
   ],
   "source": [
    "X_test['label'] = y_test\n",
    "test_df = X_test"
   ]
  },
  {
   "cell_type": "code",
   "execution_count": 105,
   "metadata": {},
   "outputs": [],
   "source": [
    "def check_purity(data):\n",
    "    \n",
    "    '''\n",
    "    looks if there is only one class\n",
    "    '''\n",
    "    \n",
    "    label = data[:,-1]\n",
    "    #returns array of our unique labels\n",
    "    unique_classes = np.unique(label)\n",
    "    \n",
    "    if len(unique_classes)==1:\n",
    "        return True\n",
    "    else:\n",
    "        return False"
   ]
  },
  {
   "cell_type": "code",
   "execution_count": 106,
   "metadata": {},
   "outputs": [
    {
     "data": {
      "text/plain": [
       "False"
      ]
     },
     "execution_count": 106,
     "metadata": {},
     "output_type": "execute_result"
    }
   ],
   "source": [
    "check_purity(train_df[train_df['petal_length']>7].values)"
   ]
  },
  {
   "cell_type": "markdown",
   "metadata": {},
   "source": [
    "## Classify"
   ]
  },
  {
   "cell_type": "code",
   "execution_count": 107,
   "metadata": {},
   "outputs": [],
   "source": [
    "def classify_data(data):\n",
    "    \n",
    "    #outputs the majority class of the dataset\n",
    "    \n",
    "    label = data[:,-1]\n",
    "    unique_classes, counts_of_unique_classes = np.unique(label,return_counts=True)\n",
    "\n",
    "    index = counts_of_unique_classes.argmax()\n",
    "\n",
    "    classification = unique_classes[index]\n",
    "\n",
    "    \n",
    "    \n",
    "    \n",
    "    \n",
    "    return classification\n",
    "\n",
    "\n"
   ]
  },
  {
   "cell_type": "markdown",
   "metadata": {},
   "source": [
    "## Potential Splits"
   ]
  },
  {
   "cell_type": "code",
   "execution_count": 108,
   "metadata": {},
   "outputs": [],
   "source": [
    "def get_potential_splits(data):\n",
    "    potential_splits = {}\n",
    "    _, n_columns = data.shape\n",
    "\n",
    "    for column_index in range(n_columns-1):\n",
    "        potential_splits[column_index]=[]\n",
    "        values = data[:, column_index]\n",
    "        univalues = np.unique(values)\n",
    "\n",
    "        for index in range(len(univalues)):\n",
    "\n",
    "            if index!=0:\n",
    "                current_value = univalues[index]\n",
    "\n",
    "                previous_value = univalues[index-1]\n",
    "\n",
    "                # find the value between current and previous then divide by 2\n",
    "                potential_split = (current_value+previous_value)/2\n",
    "\n",
    "                potential_splits[column_index].append(potential_split)\n",
    "\n",
    "\n",
    "    \n",
    "    \n",
    "    \n",
    "    \n",
    "    \n",
    "    \n",
    "    \n",
    "    \n",
    "    \n",
    "    \n",
    "    \n",
    "    \n",
    "    \n",
    "    \n",
    "    \n",
    "    \n",
    "    \n",
    "    \n",
    "    return potential_splits"
   ]
  },
  {
   "cell_type": "code",
   "execution_count": 109,
   "metadata": {
    "scrolled": false
   },
   "outputs": [],
   "source": [
    "potential_splits = get_potential_splits(train_df.values)"
   ]
  },
  {
   "cell_type": "code",
   "execution_count": 110,
   "metadata": {},
   "outputs": [
    {
     "data": {
      "text/plain": [
       "Text(0.5, 1, 'SHOW POTENTIAL BEST SPLITS')"
      ]
     },
     "execution_count": 110,
     "metadata": {},
     "output_type": "execute_result"
    },
    {
     "data": {
      "image/png": "[encoded data removed]",
      "text/plain": [
       "<Figure size 690.375x432 with 1 Axes>"
      ]
     },
     "metadata": {
      "needs_background": "light"
     },
     "output_type": "display_data"
    }
   ],
   "source": [
    "import seaborn as sns\n",
    "import matplotlib.pyplot as plt\n",
    "sns.lmplot(data=train_df,x='petal_width',y='petal_length',\n",
    "           hue='label',\n",
    "           fit_reg=False,size=6,aspect=1.5)\n",
    "plt.vlines(x=potential_splits[3],ymin=0,ymax=7)\n",
    "plt.title(\"SHOW POTENTIAL BEST SPLITS\")"
   ]
  },
  {
   "cell_type": "markdown",
   "metadata": {},
   "source": [
    "## Split Data"
   ]
  },
  {
   "cell_type": "code",
   "execution_count": 111,
   "metadata": {},
   "outputs": [],
   "source": [
    "def split_data(data, split_column, split_value):\n",
    "    \n",
    "    \n",
    "    \n",
    "    split_column_values = data[:, split_column]\n",
    "    data_below = data[split_column_values <=split_value]\n",
    "    data_above = data[split_column_values >split_value]\n",
    "    \n",
    "    \n",
    "    \n",
    "    return data_below, data_above"
   ]
  },
  {
   "cell_type": "code",
   "execution_count": 112,
   "metadata": {},
   "outputs": [],
   "source": [
    "split_column = 3\n",
    "\n",
    "split_value = 0.8\n",
    "\n",
    "\n"
   ]
  },
  {
   "cell_type": "code",
   "execution_count": 113,
   "metadata": {},
   "outputs": [],
   "source": [
    "data_below, data_above = split_data(Example.values,split_column,split_value)"
   ]
  },
  {
   "cell_type": "code",
   "execution_count": 114,
   "metadata": {},
   "outputs": [
    {
     "data": {
      "text/plain": [
       "<matplotlib.collections.LineCollection at 0x1a18aeb7b8>"
      ]
     },
     "execution_count": 114,
     "metadata": {},
     "output_type": "execute_result"
    },
    {
     "data": {
      "image/png": "[encoded data removed]",
      "text/plain": [
       "<Figure size 690.375x432 with 1 Axes>"
      ]
     },
     "metadata": {
      "needs_background": "light"
     },
     "output_type": "display_data"
    }
   ],
   "source": [
    "plotting_df = pd.DataFrame(data_below,columns=train_df.columns)\n",
    "\n",
    "\n",
    "sns.lmplot(data=train_df,x='petal_width',y='petal_length',fit_reg=False,size=6,aspect=1.5,\n",
    "          hue='label')\n",
    "\n",
    "plt.vlines(x=split_value,ymin=1,ymax=7)"
   ]
  },
  {
   "cell_type": "markdown",
   "metadata": {},
   "source": [
    "### Lowest Overall Entropy\n"
   ]
  },
  {
   "cell_type": "code",
   "execution_count": 115,
   "metadata": {},
   "outputs": [],
   "source": [
    "def calculate_entropy(data):\n",
    "    label_column = data[:,-1]\n",
    "    ##determine probabilities of the classes\n",
    "\n",
    "    _,counts = np.unique(label_column,return_counts=True)\n",
    "\n",
    "    probabilities = counts/counts.sum()\n",
    "\n",
    "    entropy = sum(probabilities * -np.log2(probabilities))\n",
    "\n",
    "    return entropy"
   ]
  },
  {
   "cell_type": "code",
   "execution_count": 116,
   "metadata": {},
   "outputs": [],
   "source": [
    "def calculate_overall_entropy(data_below,data_above):\n",
    "    \n",
    "    \n",
    "    n_data_points = len(data_below) + len(data_above)\n",
    "\n",
    "\n",
    "    #samples below the line\n",
    "    p_data_below = len(data_below)/n_data_points\n",
    "\n",
    "    #samples above the line\n",
    "    p_data_above = len(data_above)/n_data_points\n",
    "\n",
    "    overall_entropy = (p_data_below * calculate_entropy(data_below)\n",
    "\n",
    "                      +p_data_above * calculate_entropy(data_above))\n",
    "\n",
    "    \n",
    "    \n",
    "    \n",
    "    return overall_entropy\n",
    "    "
   ]
  },
  {
   "cell_type": "markdown",
   "metadata": {},
   "source": [
    "## Determine the splits that results in the lowest overall entropy"
   ]
  },
  {
   "cell_type": "code",
   "execution_count": 117,
   "metadata": {},
   "outputs": [],
   "source": [
    "def determine_best_split(data, potential_splits):\n",
    "    \n",
    "    overall_entropy = 999\n",
    "\n",
    "\n",
    "    for column_index in potential_splits:\n",
    "        for value in potential_splits[column_index]:\n",
    "            data_below, data_above = split_data(data,split_column=column_index,split_value=value)\n",
    "\n",
    "            current_overall_entropy = calculate_overall_entropy(data_below,data_above)\n",
    "\n",
    "            if current_overall_entropy <= overall_entropy:\n",
    "\n",
    "                overall_entropy=current_overall_entropy\n",
    "\n",
    "\n",
    "                best_split_column = column_index\n",
    "\n",
    "                best_split_value = value\n",
    "    return best_split_column,best_split_value"
   ]
  },
  {
   "cell_type": "code",
   "execution_count": 118,
   "metadata": {},
   "outputs": [],
   "source": [
    "potential_splits = get_potential_splits(Example.values)"
   ]
  },
  {
   "cell_type": "code",
   "execution_count": 119,
   "metadata": {},
   "outputs": [
    {
     "data": {
      "text/plain": [
       "(3, 0.8)"
      ]
     },
     "execution_count": 119,
     "metadata": {},
     "output_type": "execute_result"
    }
   ],
   "source": [
    "determine_best_split(Example.values,potential_splits)"
   ]
  },
  {
   "cell_type": "markdown",
   "metadata": {},
   "source": [
    "## Decision Tree Algorithm"
   ]
  },
  {
   "cell_type": "markdown",
   "metadata": {},
   "source": [
    "sub_tree = {question: [yes_answer, no_answer]}"
   ]
  },
  {
   "cell_type": "markdown",
   "metadata": {},
   "source": [
    "## ALGORITHM"
   ]
  },
  {
   "cell_type": "code",
   "execution_count": 120,
   "metadata": {},
   "outputs": [],
   "source": [
    "def DecisionTreeAlgo(df, counter=0, min_samples=2, max_depth=5):\n",
    "    \n",
    "    \"\"\"\n",
    "    minimum sample size: the minimum number of sampels a node must contain in\n",
    "    order to consider splitting.\n",
    "    \"\"\"\n",
    "    \n",
    "    \n",
    "    # data preparations\n",
    "    \n",
    "    if counter == 0:\n",
    "        \n",
    "        global COLUMN_HEADERS\n",
    "        COLUMN_HEADERS = df.columns\n",
    "        \n",
    "        data = df.values\n",
    "    else:\n",
    "        \n",
    "        data = df\n",
    "        \n",
    "        \n",
    "    # base case for recusive function\n",
    "    if (check_purity(data)) or (len(data)< min_samples) or (counter==max_depth):\n",
    "        #return our prediction\n",
    "        classification = classify_data(data)\n",
    "        return classification\n",
    "    \n",
    "    \n",
    "    #recursive section\n",
    "    \n",
    "    else:\n",
    "        \n",
    "        counter += 1\n",
    "        \n",
    "        \n",
    "        # run helper functions\n",
    "        \n",
    "        potential_splits = get_potential_splits(data)\n",
    "        \n",
    "        #find lowest overall entropy\n",
    "        \n",
    "        split_column, split_value = determine_best_split(data, potential_splits)\n",
    "        \n",
    "        \n",
    "        data_below, data_above = split_data(data, split_column, split_value)\n",
    "        \n",
    "        \n",
    "        #instantiate sub-tree\n",
    "        feature_name = COLUMN_HEADERS[split_column]\n",
    "        question  = \"{} <= {}\".format(feature_name,split_value)\n",
    "        \n",
    "        sub_tree = {question: []}\n",
    "        \n",
    "        \n",
    "        #find answers\n",
    "        \n",
    "        yes_answer = DecisionTreeAlgo(data_below, counter, min_samples,max_depth)\n",
    "        \n",
    "        \n",
    "        no_answer = DecisionTreeAlgo(data_above, counter, min_samples,max_depth)\n",
    "        \n",
    "        if yes_answer == no_answer:\n",
    "            sub_tree = yes_answer\n",
    "        else:\n",
    "            \n",
    "        \n",
    "            sub_tree[question].append(yes_answer)\n",
    "            sub_tree[question].append(no_answer)\n",
    "        \n",
    "        \n",
    "        return sub_tree\n",
    "        \n",
    "    "
   ]
  },
  {
   "cell_type": "code",
   "execution_count": 121,
   "metadata": {
    "scrolled": true
   },
   "outputs": [],
   "source": [
    "tree = DecisionTreeAlgo(train_df,min_samples=5,max_depth=3)"
   ]
  },
  {
   "cell_type": "code",
   "execution_count": 122,
   "metadata": {},
   "outputs": [
    {
     "name": "stdout",
     "output_type": "stream",
     "text": [
      "sepal_length    7.7\n",
      "sepal_width     2.6\n",
      "petal_length    6.9\n",
      "petal_width     2.3\n",
      "label           2.0\n",
      "Name: 118, dtype: float64 {'petal_width <= 1.75': [{'petal_length <= 5.35': [1.0, 2.0]}, {'petal_length <= 4.85': [1.0, 2.0]}]}\n"
     ]
    }
   ],
   "source": [
    "question = list(tree.keys())[0]\n",
    "\n",
    "fn, comp, value = question.split()\n",
    "\n",
    "# ask question\n",
    "if example[fn] <= float(value):\n",
    "    answer = tree[question][0] \n",
    "else:\n",
    "    answer = tree[question][1] \n",
    "    \n",
    "#base case    \n",
    "if not isinstance(answer, dict):\n",
    "    print(answer)\n",
    "else:\n",
    "    \n",
    "    residual_tree = answer\n",
    "    print(example,residual_tree)"
   ]
  },
  {
   "cell_type": "markdown",
   "metadata": {},
   "source": [
    "## Classify"
   ]
  },
  {
   "cell_type": "code",
   "execution_count": 123,
   "metadata": {},
   "outputs": [],
   "source": [
    "def predict(example, tree):\n",
    "    question = list(tree.keys())[0]\n",
    "\n",
    "    feature_name, comparison, value = question.split()\n",
    "\n",
    "    # ask question\n",
    "    if example[feature_name] <= float(value):\n",
    "        answer = tree[question][0] \n",
    "    else:\n",
    "        answer = tree[question][1] \n",
    "\n",
    "    #base case    \n",
    "    if not isinstance(answer, dict):\n",
    "        return(answer)\n",
    "    else:\n",
    "\n",
    "        residual_tree = answer\n",
    "        return predict(example,residual_tree) "
   ]
  },
  {
   "cell_type": "code",
   "execution_count": 124,
   "metadata": {},
   "outputs": [],
   "source": [
    "example = test_df.iloc[2]\n"
   ]
  },
  {
   "cell_type": "code",
   "execution_count": 125,
   "metadata": {
    "scrolled": true
   },
   "outputs": [
    {
     "data": {
      "text/plain": [
       "2.0"
      ]
     },
     "execution_count": 125,
     "metadata": {},
     "output_type": "execute_result"
    }
   ],
   "source": [
    "predict(example,tree)"
   ]
  },
  {
   "cell_type": "markdown",
   "metadata": {},
   "source": [
    "## Accuracy"
   ]
  },
  {
   "cell_type": "code",
   "execution_count": 126,
   "metadata": {},
   "outputs": [],
   "source": [
    "def calculate_accuracy(df,tree):\n",
    "    \n",
    "    df['classification'] = df.apply(predict, axis=1, args=(tree,))\n",
    "    \n",
    "    df['classification_correct'] = df.classification == df.label\n",
    "    \n",
    "    \n",
    "    accuracy = df.classification_correct.mean()\n",
    "    return accuracy\n",
    "    "
   ]
  },
  {
   "cell_type": "code",
   "execution_count": 127,
   "metadata": {},
   "outputs": [
    {
     "name": "stderr",
     "output_type": "stream",
     "text": [
      "//anaconda3/lib/python3.7/site-packages/ipykernel_launcher.py:3: SettingWithCopyWarning: \n",
      "A value is trying to be set on a copy of a slice from a DataFrame.\n",
      "Try using .loc[row_indexer,col_indexer] = value instead\n",
      "\n",
      "See the caveats in the documentation: http://pandas.pydata.org/pandas-docs/stable/indexing.html#indexing-view-versus-copy\n",
      "  This is separate from the ipykernel package so we can avoid doing imports until\n",
      "//anaconda3/lib/python3.7/site-packages/ipykernel_launcher.py:5: SettingWithCopyWarning: \n",
      "A value is trying to be set on a copy of a slice from a DataFrame.\n",
      "Try using .loc[row_indexer,col_indexer] = value instead\n",
      "\n",
      "See the caveats in the documentation: http://pandas.pydata.org/pandas-docs/stable/indexing.html#indexing-view-versus-copy\n",
      "  \"\"\"\n"
     ]
    },
    {
     "data": {
      "text/plain": [
       "0.94"
      ]
     },
     "execution_count": 127,
     "metadata": {},
     "output_type": "execute_result"
    }
   ],
   "source": [
    "calculate_accuracy(test_df,tree)"
   ]
  },
  {
   "cell_type": "code",
   "execution_count": 128,
   "metadata": {},
   "outputs": [
    {
     "data": {
      "text/plain": [
       "sepal_length                6.3\n",
       "sepal_width                 2.8\n",
       "petal_length                5.1\n",
       "petal_width                 1.5\n",
       "label                         2\n",
       "classification                1\n",
       "classification_correct    False\n",
       "Name: 133, dtype: object"
      ]
     },
     "execution_count": 128,
     "metadata": {},
     "output_type": "execute_result"
    }
   ],
   "source": [
    "test_df.loc[133]"
   ]
  },
  {
   "cell_type": "code",
   "execution_count": 129,
   "metadata": {},
   "outputs": [
    {
     "name": "stdout",
     "output_type": "stream",
     "text": [
      "{'petal_width <= 0.8': [0.0,\n",
      "                        {'petal_width <= 1.75': [{'petal_length <= 5.35': [1.0,\n",
      "                                                                           2.0]},\n",
      "                                                 {'petal_length <= 4.85': [1.0,\n",
      "                                                                           2.0]}]}]}\n"
     ]
    }
   ],
   "source": [
    "pprint(tree)"
   ]
  },
  {
   "cell_type": "code",
   "execution_count": 100,
   "metadata": {},
   "outputs": [
    {
     "data": {
      "text/plain": [
       "Text(0.5, 1, 'Petal Leaves')"
      ]
     },
     "execution_count": 100,
     "metadata": {},
     "output_type": "execute_result"
    },
    {
     "data": {
      "image/png": "[encoded data removed]",
      "text/plain": [
       "<Figure size 690.375x432 with 1 Axes>"
      ]
     },
     "metadata": {
      "needs_background": "light"
     },
     "output_type": "display_data"
    }
   ],
   "source": [
    "split_column2 = 3\n",
    "split_value2 = 1.75\n",
    "split_value = 0.8\n",
    "split_value3 = 5.35\n",
    "data_below, data_above = split_data(Example.values,split_column,split_value)\n",
    "data_belowsplit2, data_abovesplit2 = split_data(Example.values,split_column,split_value)\n",
    "\n",
    "\n",
    "\n",
    "plotting_df = pd.DataFrame(data_belowsplit2,columns=train_df.columns)\n",
    "\n",
    "sns.lmplot(data=train_df,x='petal_width',y='petal_length',fit_reg=False,size=6,aspect=1.5,\n",
    "          hue='label')\n",
    "plt.vlines(x=split_value2,ymin=1,ymax=split_value3)\n",
    "plt.vlines(x=split_value,ymin=1,ymax=7)\n",
    "plt.hlines(y=split_value3,xmin=split_value,xmax=split_value2)\n",
    "\n",
    "plt.title('Petal Leaves')"
   ]
  },
  {
   "cell_type": "code",
   "execution_count": null,
   "metadata": {},
   "outputs": [],
   "source": []
  }
 ],
 "metadata": {
  "kernelspec": {
   "display_name": "Python 3",
   "language": "python",
   "name": "python3"
  },
  "language_info": {
   "codemirror_mode": {
    "name": "ipython",
    "version": 3
   },
   "file_extension": ".py",
   "mimetype": "text/x-python",
   "name": "python",
   "nbconvert_exporter": "python",
   "pygments_lexer": "ipython3",
   "version": "3.7.3"
  }
 },
 "nbformat": 4,
 "nbformat_minor": 2
}
