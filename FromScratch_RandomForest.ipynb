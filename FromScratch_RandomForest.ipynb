{
 "cells": [
  {
   "cell_type": "code",
   "execution_count": 24,
   "metadata": {},
   "outputs": [],
   "source": [
    "import pandas as pd\n",
    "import numpy as np\n",
    "import random\n",
    "import matplotlib.pyplot as plt\n",
    "import seaborn as sns\n",
    "from ImportFunctions.DecisionTreeAlgorithm import (DecisionTreeAlgo, \n",
    "                                                   DecisionTreePredicitions, \n",
    "                                                   determine_type_of_feature)\n",
    "\n"
   ]
  },
  {
   "attachments": {},
   "cell_type": "markdown",
   "metadata": {},
   "source": [
    "## Random Forest Utilizes Bootstrapping to generate random samples\n",
    "\n",
    "    -The first way in which this is implemented is by taking random row samples\n",
    "    -The second way this is perfomed is using random features"
   ]
  },
  {
   "cell_type": "code",
   "execution_count": 2,
   "metadata": {
    "scrolled": true
   },
   "outputs": [],
   "source": [
    "from sklearn.datasets import load_wine\n",
    "\n",
    "winedata = load_wine()\n",
    "data = pd.DataFrame(winedata.data, columns=winedata.feature_names)\n",
    "target = winedata.target\n",
    "data['label'] = target"
   ]
  },
  {
   "cell_type": "code",
   "execution_count": 3,
   "metadata": {},
   "outputs": [],
   "source": [
    "def train_test_split(data,test_size):\n",
    "\n",
    "    test_size = round(test_size * len(data))\n",
    "    \n",
    "        \n",
    "    indices = data.index.tolist()\n",
    "    test_indices = random.sample(population=indices, k=test_size)\n",
    "    \n",
    "    test_df = data.loc[test_indices]\n",
    "    train_df = data.drop(test_indices)\n",
    "    return train_df, test_df"
   ]
  },
  {
   "cell_type": "code",
   "execution_count": 4,
   "metadata": {},
   "outputs": [
    {
     "data": {
      "text/plain": [
       "0    0.331461\n",
       "1    0.398876\n",
       "2    0.269663\n",
       "Name: label, dtype: float64"
      ]
     },
     "execution_count": 4,
     "metadata": {},
     "output_type": "execute_result"
    },
    {
     "data": {
      "image/png": "[encoded data removed]",
      "text/plain": [
       "<Figure size 432x288 with 1 Axes>"
      ]
     },
     "metadata": {
      "needs_background": "light"
     },
     "output_type": "display_data"
    }
   ],
   "source": [
    "wineLabel = data['label'].value_counts(normalize=True)\n",
    "wineLabel = wineLabel.sort_index()\n",
    "wineLabel.plot(kind='bar')\n",
    "wineLabel"
   ]
  },
  {
   "cell_type": "code",
   "execution_count": 5,
   "metadata": {},
   "outputs": [],
   "source": [
    "random.seed(0)\n",
    "\n",
    "train_df, test_df = train_test_split(data,0.2)"
   ]
  },
  {
   "cell_type": "markdown",
   "metadata": {},
   "source": [
    "## Random Forest"
   ]
  },
  {
   "cell_type": "code",
   "execution_count": 6,
   "metadata": {},
   "outputs": [],
   "source": [
    "def bootstrapping(train_df , n_boostrap):\n",
    "    \"\"\"\n",
    "    n_bootstrap: how many examples we want to have in the dataset\n",
    "    \"\"\"\n",
    "    bootstrap_indices = np.random.randint(low=0, high=len(train_df), size=n_boostrap)\n",
    "    \n",
    "    df_bootsrapped = train_df.iloc[bootstrap_indices]\n",
    "    \n",
    "    \n",
    "    \n",
    "    \"\"\"\n",
    "    returns a random set of rows\n",
    "    \"\"\"\n",
    "    return df_bootsrapped\n",
    "\n",
    "\n",
    "\n",
    "    \n",
    "    "
   ]
  },
  {
   "cell_type": "code",
   "execution_count": 7,
   "metadata": {},
   "outputs": [],
   "source": [
    "def RandomForestAlgo(train_df, n_trees, n_bootstrap, n_features, dt_max_depth):\n",
    "    \n",
    "    \"\"\"\n",
    "    n_trees: how many trees we want to build\n",
    "    n_bootstrap: how many sample rows do we want\n",
    "    n_features: how many sample features we want to include\n",
    "    dt_max_depth: max depth of each decision tree\n",
    "    \n",
    "    \"\"\"\n",
    "    \n",
    "    forest = []\n",
    "    \n",
    "    for i in range(n_trees):\n",
    "        \n",
    "        df_bootstrapped = bootstrapping(train_df, n_bootstrap)\n",
    "        tree = DecisionTreeAlgo(df_bootstrapped,'classification', max_depth=dt_max_depth, random_subspace=n_features)\n",
    "        \n",
    "        forest.append(tree)\n",
    "        \n",
    "    \n",
    "    return forest\n"
   ]
  },
  {
   "cell_type": "code",
   "execution_count": 21,
   "metadata": {},
   "outputs": [],
   "source": [
    "def RandomForest_Prediction(test_df, forest):\n",
    "    \n",
    "    df_predictions = {}\n",
    "\n",
    "    for i in range(len(forest)):\n",
    "        column_name = \"tree_{}\".format(i)\n",
    "        predictions = DecisionTreePredicitions(test_df, tree=forest[i])\n",
    "        df_predictions[column_name] =  predictions\n",
    "\n",
    "    df_predictions = pd.DataFrame(df_predictions)   \n",
    "    random_forest_predictions = df_predictions.mode(axis=1)[0]\n",
    "\n",
    "    return random_forest_predictions"
   ]
  },
  {
   "cell_type": "code",
   "execution_count": 37,
   "metadata": {},
   "outputs": [
    {
     "name": "stdout",
     "output_type": "stream",
     "text": [
      "[0.9444444444444444, 1.0, 0.9166666666666666, 0.9722222222222222, 0.9444444444444444, 0.9166666666666666, 0.9722222222222222, 0.9444444444444444, 1.0, 0.9722222222222222, 0.8888888888888888, 0.9444444444444444, 0.9722222222222222, 0.9444444444444444, 0.9722222222222222, 0.9166666666666666, 1.0, 0.9722222222222222, 0.9444444444444444, 0.9722222222222222]\n",
      "average accuracy: 0.9555555555555554\n"
     ]
    }
   ],
   "source": [
    "accuracies= []\n",
    "\n",
    "for i in range(20):\n",
    "\n",
    "    forest = RandomForestAlgo(train_df, n_trees=10, n_bootstrap=70, n_features=4, dt_max_depth=4)\n",
    "    rf_preds = RandomForest_Prediction(test_df, forest)\n",
    "    Accuracy = pd.DataFrame({'Actual':test_df.iloc[:,-1], 'Predictions':rf_preds})\n",
    "    Accuracy['Match'] = Accuracy['Actual'] == Accuracy['Predictions']\n",
    "    accuracies.append(Accuracy['Match'].mean())\n",
    "    \n",
    "print(accuracies)\n",
    "print(\"average accuracy: {}\".format(np.array(accuracies).mean()))"
   ]
  },
  {
   "cell_type": "code",
   "execution_count": 38,
   "metadata": {},
   "outputs": [
    {
     "name": "stdout",
     "output_type": "stream",
     "text": [
      "[0.8055555555555556, 0.8333333333333334, 0.9444444444444444, 0.8055555555555556, 0.8611111111111112, 0.8611111111111112, 0.8611111111111112, 0.9444444444444444, 0.9444444444444444, 0.8888888888888888, 0.9166666666666666, 0.8055555555555556, 0.8333333333333334, 0.9166666666666666, 0.7777777777777778, 0.9166666666666666, 0.8333333333333334, 0.7777777777777778, 0.9444444444444444, 0.9722222222222222]\n",
      "average accuracy: 0.8722222222222223\n"
     ]
    }
   ],
   "source": [
    "accuracies= []\n",
    "\n",
    "for i in range(20):\n",
    "\n",
    "    forest = RandomForestAlgo(train_df, n_trees=1, n_bootstrap=len(train_df), n_features=999, dt_max_depth=4)\n",
    "    rf_preds = RandomForest_Prediction(test_df, forest)\n",
    "    Accuracy = pd.DataFrame({'Actual':test_df.iloc[:,-1], 'Predictions':rf_preds})\n",
    "    Accuracy['Match'] = Accuracy['Actual'] == Accuracy['Predictions']\n",
    "    Accuracy['Match'].mean()\n",
    "    accuracies.append(Accuracy['Match'].mean())\n",
    "\n",
    "print(accuracies)\n",
    "print(\"average accuracy: {}\".format(np.array(accuracies).mean()))"
   ]
  },
  {
   "cell_type": "code",
   "execution_count": null,
   "metadata": {},
   "outputs": [],
   "source": []
  }
 ],
 "metadata": {
  "kernelspec": {
   "display_name": "Python 3",
   "language": "python",
   "name": "python3"
  },
  "language_info": {
   "codemirror_mode": {
    "name": "ipython",
    "version": 3
   },
   "file_extension": ".py",
   "mimetype": "text/x-python",
   "name": "python",
   "nbconvert_exporter": "python",
   "pygments_lexer": "ipython3",
   "version": "3.7.3"
  }
 },
 "nbformat": 4,
 "nbformat_minor": 2
}
