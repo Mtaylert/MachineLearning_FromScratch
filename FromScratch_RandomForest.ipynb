{
 "cells": [
  {
   "cell_type": "code",
   "execution_count": 22,
   "metadata": {},
   "outputs": [],
   "source": [
    "import pandas as pd\n",
    "import numpy as np\n",
    "import random\n",
    "import matplotlib.pyplot as plt\n",
    "import seaborn as sns\n",
    "from ImportFunctions.DecisionTreeAlgorithm import DecisionTreeAlgo, predict, determine_type_of_feature"
   ]
  },
  {
   "attachments": {},
   "cell_type": "markdown",
   "metadata": {},
   "source": [
    "## Random Forest Utilizes Bootstrapping to generate random samples\n",
    "\n",
    "    -The first way in which this is implemented is by taking random row samples\n",
    "    -The second way this is perfomed is using random features"
   ]
  },
  {
   "cell_type": "code",
   "execution_count": 18,
   "metadata": {
    "scrolled": true
   },
   "outputs": [],
   "source": [
    "from sklearn.datasets import load_wine\n",
    "\n",
    "winedata = load_wine()\n",
    "data = pd.DataFrame(winedata.data, columns=winedata.feature_names)\n",
    "target = winedata.target\n",
    "data['label'] = target"
   ]
  },
  {
   "cell_type": "code",
   "execution_count": 65,
   "metadata": {},
   "outputs": [],
   "source": [
    "def train_test_split(data,test_size):\n",
    "\n",
    "    test_size = round(test_size * len(data))\n",
    "    \n",
    "        \n",
    "    indices = data.index.tolist()\n",
    "    test_indices = random.sample(population=indices, k=test_size)\n",
    "    \n",
    "    test_df = data.loc[test_indices]\n",
    "    train_df = data.drop(test_indices)\n",
    "    return train_df, test_df"
   ]
  },
  {
   "cell_type": "code",
   "execution_count": 68,
   "metadata": {},
   "outputs": [
    {
     "data": {
      "text/plain": [
       "0    0.331461\n",
       "1    0.398876\n",
       "2    0.269663\n",
       "Name: label, dtype: float64"
      ]
     },
     "execution_count": 68,
     "metadata": {},
     "output_type": "execute_result"
    },
    {
     "data": {
      "image/png": "[encoded data removed]",
      "text/plain": [
       "<Figure size 432x288 with 1 Axes>"
      ]
     },
     "metadata": {
      "needs_background": "light"
     },
     "output_type": "display_data"
    }
   ],
   "source": [
    "wineLabel = data['label'].value_counts(normalize=True)\n",
    "wineLabel = wineLabel.sort_index()\n",
    "wineLabel.plot(kind='bar')\n",
    "wineLabel"
   ]
  },
  {
   "cell_type": "code",
   "execution_count": 67,
   "metadata": {},
   "outputs": [],
   "source": [
    "random.seed(0)\n",
    "\n",
    "train_df, test_df = train_test_split(data,0.2)"
   ]
  },
  {
   "cell_type": "markdown",
   "metadata": {},
   "source": [
    "## Random Forest"
   ]
  },
  {
   "cell_type": "code",
   "execution_count": 78,
   "metadata": {},
   "outputs": [],
   "source": [
    "def bootstrapping(train_df , n_boostrap):\n",
    "    \"\"\"\n",
    "    n_bootstrap: how many examples we want to have in the dataset\n",
    "    \"\"\"\n",
    "    bootstrap_indices = np.random.randint(low=0, high=len(train_df), size=n_boostrap)\n",
    "    \n",
    "    df_bootsrapped = train_df.iloc[bootstrap_indices]\n",
    "    \n",
    "    \n",
    "    \n",
    "    \"\"\"\n",
    "    returns a random set of rows\n",
    "    \"\"\"\n",
    "    return df_bootsrapped\n",
    "\n",
    "\n",
    "\n"
   ]
  },
  {
   "cell_type": "code",
   "execution_count": 87,
   "metadata": {
    "scrolled": true
   },
   "outputs": [
    {
     "ename": "SyntaxError",
     "evalue": "invalid syntax (<ipython-input-87-ecedc218fbd6>, line 9)",
     "output_type": "error",
     "traceback": [
      "\u001b[0;36m  File \u001b[0;32m\"<ipython-input-87-ecedc218fbd6>\"\u001b[0;36m, line \u001b[0;32m9\u001b[0m\n\u001b[0;31m    if random_subspace and random_subspace < = len(column_indices):\u001b[0m\n\u001b[0m                                             ^\u001b[0m\n\u001b[0;31mSyntaxError\u001b[0m\u001b[0;31m:\u001b[0m invalid syntax\n"
     ]
    }
   ],
   "source": [
    "def get_potential_splits(data, random_subspace):\n",
    "    \n",
    "    potential_splits = {}\n",
    "    \n",
    "    _, n_columns = data.shape\n",
    "    \n",
    "    column_indices = list(range(n_columns - 1))\n",
    "    \n",
    "    if random_subspace and random_subspace < = len(column_indices):\n",
    "        \n",
    "        column_indices = random.sample(population=column_indices, k = random_subspace)\n",
    "        \n",
    "\n",
    "    for column_index in column_indices:\n",
    "\n",
    "        values = data[:, column_index]\n",
    "        \n",
    "        univalues = np.unique(values)\n",
    "\n",
    "        potential_splits[column_index] = univalues\n",
    "\n",
    "\n",
    "    return potential_splits\n"
   ]
  },
  {
   "cell_type": "code",
   "execution_count": 86,
   "metadata": {},
   "outputs": [
    {
     "data": {
      "text/plain": [
       "{11: array([1.29, 1.3 , 1.33, 1.36, 1.42, 1.47, 1.48, 1.51, 1.56, 1.58, 1.59,\n",
       "        1.6 , 1.62, 1.63, 1.64, 1.67, 1.68, 1.69, 1.71, 1.74, 1.75, 1.78,\n",
       "        1.8 , 1.82, 1.83, 1.86, 1.93, 2.  , 2.01, 2.06, 2.11, 2.12, 2.14,\n",
       "        2.15, 2.26, 2.3 , 2.31, 2.44, 2.46, 2.48, 2.5 , 2.57, 2.63, 2.65,\n",
       "        2.69, 2.71, 2.72, 2.73, 2.74, 2.75, 2.77, 2.78, 2.81, 2.82, 2.83,\n",
       "        2.84, 2.85, 2.87, 2.88, 2.9 , 2.91, 2.93, 2.96, 3.  , 3.02, 3.05,\n",
       "        3.07, 3.1 , 3.13, 3.14, 3.16, 3.17, 3.19, 3.2 , 3.21, 3.22, 3.26,\n",
       "        3.28, 3.3 , 3.31, 3.33, 3.35, 3.36, 3.37, 3.38, 3.4 , 3.44, 3.45,\n",
       "        3.48, 3.5 , 3.52, 3.53, 3.55, 3.56, 3.57, 3.58, 3.59, 3.63, 3.69,\n",
       "        3.71, 3.92, 4.  ]),\n",
       " 6: array([0.34, 0.47, 0.48, 0.49, 0.5 , 0.51, 0.52, 0.55, 0.56, 0.57, 0.58,\n",
       "        0.6 , 0.61, 0.63, 0.65, 0.66, 0.68, 0.69, 0.7 , 0.75, 0.76, 0.78,\n",
       "        0.83, 0.84, 0.92, 0.99, 1.02, 1.09, 1.1 , 1.2 , 1.22, 1.25, 1.28,\n",
       "        1.3 , 1.36, 1.41, 1.46, 1.57, 1.58, 1.59, 1.6 , 1.61, 1.64, 1.69,\n",
       "        1.79, 1.84, 1.85, 1.92, 1.94, 2.  , 2.03, 2.04, 2.09, 2.11, 2.14,\n",
       "        2.17, 2.19, 2.24, 2.25, 2.26, 2.27, 2.29, 2.33, 2.37, 2.41, 2.43,\n",
       "        2.45, 2.5 , 2.51, 2.52, 2.53, 2.58, 2.63, 2.64, 2.65, 2.68, 2.69,\n",
       "        2.74, 2.76, 2.79, 2.86, 2.88, 2.89, 2.9 , 2.91, 2.92, 2.94, 2.97,\n",
       "        2.98, 2.99, 3.  , 3.03, 3.04, 3.06, 3.1 , 3.14, 3.15, 3.17, 3.19,\n",
       "        3.23, 3.24, 3.25, 3.27, 3.29, 3.39, 3.4 , 3.49, 3.54, 3.56, 3.64,\n",
       "        3.67, 3.69, 5.08]),\n",
       " 10: array([0.48 , 0.54 , 0.55 , 0.56 , 0.57 , 0.58 , 0.59 , 0.6  , 0.61 ,\n",
       "        0.62 , 0.64 , 0.65 , 0.66 , 0.68 , 0.69 , 0.7  , 0.72 , 0.73 ,\n",
       "        0.74 , 0.75 , 0.77 , 0.78 , 0.8  , 0.81 , 0.82 , 0.84 , 0.85 ,\n",
       "        0.86 , 0.87 , 0.88 , 0.89 , 0.906, 0.91 , 0.92 , 0.93 , 0.94 ,\n",
       "        0.95 , 0.96 , 0.97 , 0.98 , 0.99 , 1.   , 1.01 , 1.02 , 1.03 ,\n",
       "        1.04 , 1.05 , 1.06 , 1.07 , 1.08 , 1.09 , 1.1  , 1.11 , 1.12 ,\n",
       "        1.13 , 1.15 , 1.16 , 1.17 , 1.18 , 1.19 , 1.2  , 1.22 , 1.23 ,\n",
       "        1.24 , 1.25 , 1.27 , 1.28 , 1.31 , 1.33 , 1.36 , 1.42 , 1.71 ]),\n",
       " 0: array([11.03, 11.46, 11.56, 11.61, 11.62, 11.64, 11.65, 11.66, 11.76,\n",
       "        11.79, 11.81, 11.82, 11.96, 12.  , 12.07, 12.08, 12.16, 12.2 ,\n",
       "        12.21, 12.22, 12.25, 12.29, 12.33, 12.34, 12.36, 12.37, 12.42,\n",
       "        12.43, 12.47, 12.51, 12.53, 12.6 , 12.64, 12.67, 12.69, 12.7 ,\n",
       "        12.72, 12.77, 12.79, 12.81, 12.82, 12.84, 12.85, 12.87, 12.88,\n",
       "        12.93, 12.96, 12.99, 13.03, 13.05, 13.07, 13.11, 13.16, 13.17,\n",
       "        13.2 , 13.23, 13.24, 13.27, 13.28, 13.29, 13.3 , 13.32, 13.34,\n",
       "        13.39, 13.4 , 13.41, 13.45, 13.48, 13.49, 13.5 , 13.51, 13.52,\n",
       "        13.56, 13.58, 13.63, 13.64, 13.67, 13.68, 13.69, 13.71, 13.72,\n",
       "        13.73, 13.74, 13.75, 13.76, 13.77, 13.83, 13.84, 13.86, 13.87,\n",
       "        13.88, 13.9 , 13.94, 14.02, 14.06, 14.1 , 14.12, 14.13, 14.16,\n",
       "        14.2 , 14.21, 14.22, 14.23, 14.3 , 14.37, 14.38, 14.39, 14.75,\n",
       "        14.83]),\n",
       " 7: array([0.13, 0.14, 0.17, 0.19, 0.2 , 0.21, 0.22, 0.24, 0.25, 0.26, 0.27,\n",
       "        0.28, 0.29, 0.3 , 0.31, 0.32, 0.33, 0.34, 0.35, 0.37, 0.39, 0.4 ,\n",
       "        0.42, 0.43, 0.44, 0.45, 0.47, 0.48, 0.5 , 0.52, 0.53, 0.55, 0.56,\n",
       "        0.58, 0.6 , 0.61, 0.63, 0.66])}"
      ]
     },
     "execution_count": 86,
     "metadata": {},
     "output_type": "execute_result"
    }
   ],
   "source": [
    "get_potential_splits(train_df.values, random_subspace=5)"
   ]
  },
  {
   "cell_type": "code",
   "execution_count": null,
   "metadata": {},
   "outputs": [],
   "source": []
  }
 ],
 "metadata": {
  "kernelspec": {
   "display_name": "Python 3",
   "language": "python",
   "name": "python3"
  },
  "language_info": {
   "codemirror_mode": {
    "name": "ipython",
    "version": 3
   },
   "file_extension": ".py",
   "mimetype": "text/x-python",
   "name": "python",
   "nbconvert_exporter": "python",
   "pygments_lexer": "ipython3",
   "version": "3.7.3"
  }
 },
 "nbformat": 4,
 "nbformat_minor": 2
}
