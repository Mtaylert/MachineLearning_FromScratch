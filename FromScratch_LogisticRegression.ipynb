{
 "cells": [
  {
   "cell_type": "code",
   "execution_count": 8,
   "metadata": {},
   "outputs": [],
   "source": [
    "from sklearn.datasets import california_housing , load_breast_cancer\n",
    "import pandas as pd\n",
    "import numpy as np\n",
    "import random\n",
    "from sklearn.model_selection import train_test_split\n",
    "import random\n",
    "from tqdm import tqdm\n",
    "import matplotlib.pyplot as plt\n"
   ]
  },
  {
   "cell_type": "code",
   "execution_count": 9,
   "metadata": {
    "scrolled": true
   },
   "outputs": [],
   "source": [
    "default = pd.read_csv('/Users/Matt/Documents/Intro To Stat Learning/data/def.csv')\n",
    "default['default'] = default['default'].map({\"No\":0,\"Yes\":1})\n",
    "default['student'] = default['student'].map({\"No\":0,\"Yes\":1})\n",
    "\n",
    "default = default.drop('Unnamed: 0',axis=1)\n",
    "y = default['default']\n",
    "X = default.drop('default',axis=1)\n",
    "#dataB = dataB[['mean radius','mean texture','mean compactness','worst texture']]\n",
    "X_train,X_test,y_train,y_test = train_test_split(X,y,test_size=0.25, random_state=42)"
   ]
  },
  {
   "cell_type": "code",
   "execution_count": 10,
   "metadata": {},
   "outputs": [],
   "source": [
    "def addConstantFunc(X):\n",
    "\n",
    "    x0 = np.ones(len(X))\n",
    "\n",
    "    #add a constant\n",
    "    X['constant'] = x0\n",
    "\n",
    "    return X\n",
    "\n",
    "\n",
    "def costfunction(X,coeff):\n",
    "    theta = X.dot(coeff)\n",
    "    sigmoid = 1/(1 + np.exp(-theta))\n",
    "    return sigmoid"
   ]
  },
  {
   "cell_type": "code",
   "execution_count": 17,
   "metadata": {},
   "outputs": [],
   "source": [
    "def LogisticRegression(X,y, n_iterations, alpha):\n",
    "    \n",
    "    gradient_preds = []\n",
    "    X = addConstantFunc(X)\n",
    "    coeff = np.array(np.zeros(X.shape[1]))\n",
    "    \n",
    "    for i in range(n_iterations):\n",
    "        \n",
    "        \n",
    "        #cost function output\n",
    "        sigmoid = costfunction(X,coeff)\n",
    "       \n",
    "        loss = (-y * np.log(sigmoid) - (1 - y) * np.log(1 - sigmoid)).mean()\n",
    "        \n",
    "        #update the coefficient weights\n",
    "        gradient = X.T.dot(sigmoid - y) / len(y)\n",
    "     \n",
    "        \n",
    "        coeff -= alpha * gradient\n",
    "        \n",
    "        gradient_preds.append(tuple([i, gradient]))\n",
    "        \n",
    "        \n",
    "    return coeff \n",
    "        \n",
    "        \n",
    "    \n",
    "\n",
    "def predict(X, coeff, predict_probabilities = True):\n",
    "    X = addConstantFunc(X)\n",
    "    predict_proba = costfunction(X, coeff)\n",
    "    predict = [1 if x >.5 else 0 for x in predict_proba]\n",
    "    if predict_probabilities ==True:\n",
    "        return predict_proba\n",
    "    else:\n",
    "        return predict\n",
    "    \n",
    "    \n",
    "def score(prediction, y):\n",
    "    output = pd.DataFrame({\"Prediction\":prediction, \"Actual\":y})\n",
    "    output['score'] = output['Prediction'] == output['Actual']\n",
    "    return output['score'].mean()"
   ]
  },
  {
   "cell_type": "code",
   "execution_count": 18,
   "metadata": {},
   "outputs": [
    {
     "name": "stderr",
     "output_type": "stream",
     "text": [
      "//anaconda3/lib/python3.7/site-packages/ipykernel_launcher.py:6: SettingWithCopyWarning: \n",
      "A value is trying to be set on a copy of a slice from a DataFrame.\n",
      "Try using .loc[row_indexer,col_indexer] = value instead\n",
      "\n",
      "See the caveats in the documentation: http://pandas.pydata.org/pandas-docs/stable/indexing.html#indexing-view-versus-copy\n",
      "  \n",
      "//anaconda3/lib/python3.7/site-packages/ipykernel_launcher.py:13: RuntimeWarning: divide by zero encountered in log\n",
      "  del sys.path[0]\n"
     ]
    }
   ],
   "source": [
    "coeff = LogisticRegression(X_train,y_train,1000,0.01)"
   ]
  },
  {
   "cell_type": "code",
   "execution_count": 19,
   "metadata": {
    "scrolled": false
   },
   "outputs": [
    {
     "name": "stderr",
     "output_type": "stream",
     "text": [
      "//anaconda3/lib/python3.7/site-packages/ipykernel_launcher.py:6: SettingWithCopyWarning: \n",
      "A value is trying to be set on a copy of a slice from a DataFrame.\n",
      "Try using .loc[row_indexer,col_indexer] = value instead\n",
      "\n",
      "See the caveats in the documentation: http://pandas.pydata.org/pandas-docs/stable/indexing.html#indexing-view-versus-copy\n",
      "  \n"
     ]
    }
   ],
   "source": [
    "predict = predict(X_test,coeff,predict_probabilities=False)"
   ]
  },
  {
   "cell_type": "code",
   "execution_count": 20,
   "metadata": {},
   "outputs": [
    {
     "data": {
      "text/plain": [
       "0.6352"
      ]
     },
     "execution_count": 20,
     "metadata": {},
     "output_type": "execute_result"
    }
   ],
   "source": [
    "score(predict,y_test)"
   ]
  }
 ],
 "metadata": {
  "kernelspec": {
   "display_name": "Python 3",
   "language": "python",
   "name": "python3"
  },
  "language_info": {
   "codemirror_mode": {
    "name": "ipython",
    "version": 3
   },
   "file_extension": ".py",
   "mimetype": "text/x-python",
   "name": "python",
   "nbconvert_exporter": "python",
   "pygments_lexer": "ipython3",
   "version": "3.7.3"
  }
 },
 "nbformat": 4,
 "nbformat_minor": 2
}
